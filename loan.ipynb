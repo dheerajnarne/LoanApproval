{
 "cells": [
  {
   "cell_type": "markdown",
   "metadata": {},
   "source": [
    "# Risk Assessment and Loan Approval Modeling\n",
    "\n",
    "# Dataset\n",
    "This dataset comprises 20,000 records of personal and financial data, designed to facilitate the development of predictive models for risk assessment. It serves two primary purposes:\n",
    "\n",
    "Risk Score Regression: To predict a continuous risk score associated with each individual's likelihood of loan default or financial instability.\n",
    "Binary Classification: To determine the binary outcome of loan approval, indicating whether an applicant is likely to be approved or denied for a loan."
   ]
  },
  {
   "cell_type": "code",
   "execution_count": 1,
   "metadata": {},
   "outputs": [],
   "source": [
    "import pandas as pd\n",
    "import numpy as np\n",
    "from sklearn.model_selection import train_test_split\n",
    "from sklearn.preprocessing import LabelEncoder, StandardScaler\n",
    "from sklearn.metrics import accuracy_score, classification_report\n",
    "from sklearn.linear_model import LogisticRegression\n",
    "from sklearn.tree import DecisionTreeClassifier\n",
    "from sklearn.ensemble import RandomForestClassifier, GradientBoostingClassifier\n",
    "from sklearn.svm import SVC\n",
    "import seaborn as sns"
   ]
  },
  {
   "cell_type": "code",
   "execution_count": 2,
   "metadata": {},
   "outputs": [],
   "source": [
    "data=pd.read_csv(\"Loan.csv\")"
   ]
  },
  {
   "cell_type": "code",
   "execution_count": 3,
   "metadata": {},
   "outputs": [],
   "source": [
    "data.drop('ApplicationDate', axis=1, inplace=True)"
   ]
  },
  {
   "cell_type": "code",
   "execution_count": 12,
   "metadata": {},
   "outputs": [
    {
     "data": {
      "text/plain": [
       "Index(['Age', 'AnnualIncome', 'CreditScore', 'EmploymentStatus',\n",
       "       'EducationLevel', 'Experience', 'LoanAmount', 'LoanDuration',\n",
       "       'MaritalStatus', 'NumberOfDependents', 'HomeOwnershipStatus',\n",
       "       'MonthlyDebtPayments', 'CreditCardUtilizationRate',\n",
       "       'NumberOfOpenCreditLines', 'NumberOfCreditInquiries',\n",
       "       'DebtToIncomeRatio', 'BankruptcyHistory', 'LoanPurpose',\n",
       "       'PreviousLoanDefaults', 'PaymentHistory', 'LengthOfCreditHistory',\n",
       "       'SavingsAccountBalance', 'CheckingAccountBalance', 'TotalAssets',\n",
       "       'TotalLiabilities', 'MonthlyIncome', 'UtilityBillsPaymentHistory',\n",
       "       'JobTenure', 'NetWorth', 'BaseInterestRate', 'InterestRate',\n",
       "       'MonthlyLoanPayment', 'TotalDebtToIncomeRatio', 'LoanApproved',\n",
       "       'RiskScore'],\n",
       "      dtype='object')"
      ]
     },
     "execution_count": 12,
     "metadata": {},
     "output_type": "execute_result"
    }
   ],
   "source": [
    "data.columns"
   ]
  },
  {
   "cell_type": "code",
   "execution_count": 5,
   "metadata": {},
   "outputs": [
    {
     "data": {
      "text/html": [
       "<div>\n",
       "<style scoped>\n",
       "    .dataframe tbody tr th:only-of-type {\n",
       "        vertical-align: middle;\n",
       "    }\n",
       "\n",
       "    .dataframe tbody tr th {\n",
       "        vertical-align: top;\n",
       "    }\n",
       "\n",
       "    .dataframe thead th {\n",
       "        text-align: right;\n",
       "    }\n",
       "</style>\n",
       "<table border=\"1\" class=\"dataframe\">\n",
       "  <thead>\n",
       "    <tr style=\"text-align: right;\">\n",
       "      <th></th>\n",
       "      <th>BankruptcyHistory</th>\n",
       "      <th>TotalDebtToIncomeRatio</th>\n",
       "      <th>DebtToIncomeRatio</th>\n",
       "      <th>NetWorth</th>\n",
       "      <th>AnnualIncome</th>\n",
       "      <th>MonthlyIncome</th>\n",
       "      <th>LoanApproved</th>\n",
       "      <th>RiskScore</th>\n",
       "    </tr>\n",
       "  </thead>\n",
       "  <tbody>\n",
       "    <tr>\n",
       "      <th>0</th>\n",
       "      <td>0</td>\n",
       "      <td>0.181077</td>\n",
       "      <td>0.358336</td>\n",
       "      <td>126928</td>\n",
       "      <td>39948</td>\n",
       "      <td>3329.000000</td>\n",
       "      <td>0</td>\n",
       "      <td>49.0</td>\n",
       "    </tr>\n",
       "    <tr>\n",
       "      <th>1</th>\n",
       "      <td>0</td>\n",
       "      <td>0.389852</td>\n",
       "      <td>0.330274</td>\n",
       "      <td>43609</td>\n",
       "      <td>39709</td>\n",
       "      <td>3309.083333</td>\n",
       "      <td>0</td>\n",
       "      <td>52.0</td>\n",
       "    </tr>\n",
       "    <tr>\n",
       "      <th>2</th>\n",
       "      <td>0</td>\n",
       "      <td>0.462157</td>\n",
       "      <td>0.244729</td>\n",
       "      <td>5205</td>\n",
       "      <td>40724</td>\n",
       "      <td>3393.666667</td>\n",
       "      <td>0</td>\n",
       "      <td>52.0</td>\n",
       "    </tr>\n",
       "    <tr>\n",
       "      <th>3</th>\n",
       "      <td>0</td>\n",
       "      <td>0.313098</td>\n",
       "      <td>0.436244</td>\n",
       "      <td>99452</td>\n",
       "      <td>69084</td>\n",
       "      <td>5757.000000</td>\n",
       "      <td>0</td>\n",
       "      <td>54.0</td>\n",
       "    </tr>\n",
       "    <tr>\n",
       "      <th>4</th>\n",
       "      <td>0</td>\n",
       "      <td>0.070210</td>\n",
       "      <td>0.078884</td>\n",
       "      <td>227019</td>\n",
       "      <td>103264</td>\n",
       "      <td>8605.333333</td>\n",
       "      <td>1</td>\n",
       "      <td>36.0</td>\n",
       "    </tr>\n",
       "    <tr>\n",
       "      <th>...</th>\n",
       "      <td>...</td>\n",
       "      <td>...</td>\n",
       "      <td>...</td>\n",
       "      <td>...</td>\n",
       "      <td>...</td>\n",
       "      <td>...</td>\n",
       "      <td>...</td>\n",
       "      <td>...</td>\n",
       "    </tr>\n",
       "    <tr>\n",
       "      <th>19995</th>\n",
       "      <td>0</td>\n",
       "      <td>0.627741</td>\n",
       "      <td>0.468077</td>\n",
       "      <td>55327</td>\n",
       "      <td>30180</td>\n",
       "      <td>2515.000000</td>\n",
       "      <td>0</td>\n",
       "      <td>55.0</td>\n",
       "    </tr>\n",
       "    <tr>\n",
       "      <th>19996</th>\n",
       "      <td>0</td>\n",
       "      <td>0.334418</td>\n",
       "      <td>0.317372</td>\n",
       "      <td>64002</td>\n",
       "      <td>49246</td>\n",
       "      <td>4103.833333</td>\n",
       "      <td>0</td>\n",
       "      <td>54.0</td>\n",
       "    </tr>\n",
       "    <tr>\n",
       "      <th>19997</th>\n",
       "      <td>0</td>\n",
       "      <td>0.357227</td>\n",
       "      <td>0.023014</td>\n",
       "      <td>103663</td>\n",
       "      <td>48958</td>\n",
       "      <td>4079.833333</td>\n",
       "      <td>0</td>\n",
       "      <td>45.0</td>\n",
       "    </tr>\n",
       "    <tr>\n",
       "      <th>19998</th>\n",
       "      <td>0</td>\n",
       "      <td>0.408678</td>\n",
       "      <td>0.534517</td>\n",
       "      <td>10600</td>\n",
       "      <td>41025</td>\n",
       "      <td>3418.750000</td>\n",
       "      <td>0</td>\n",
       "      <td>59.0</td>\n",
       "    </tr>\n",
       "    <tr>\n",
       "      <th>19999</th>\n",
       "      <td>0</td>\n",
       "      <td>0.298006</td>\n",
       "      <td>0.553434</td>\n",
       "      <td>41372</td>\n",
       "      <td>53227</td>\n",
       "      <td>4435.583333</td>\n",
       "      <td>0</td>\n",
       "      <td>59.0</td>\n",
       "    </tr>\n",
       "  </tbody>\n",
       "</table>\n",
       "<p>20000 rows × 8 columns</p>\n",
       "</div>"
      ],
      "text/plain": [
       "       BankruptcyHistory  TotalDebtToIncomeRatio  DebtToIncomeRatio  NetWorth  \\\n",
       "0                      0                0.181077           0.358336    126928   \n",
       "1                      0                0.389852           0.330274     43609   \n",
       "2                      0                0.462157           0.244729      5205   \n",
       "3                      0                0.313098           0.436244     99452   \n",
       "4                      0                0.070210           0.078884    227019   \n",
       "...                  ...                     ...                ...       ...   \n",
       "19995                  0                0.627741           0.468077     55327   \n",
       "19996                  0                0.334418           0.317372     64002   \n",
       "19997                  0                0.357227           0.023014    103663   \n",
       "19998                  0                0.408678           0.534517     10600   \n",
       "19999                  0                0.298006           0.553434     41372   \n",
       "\n",
       "       AnnualIncome  MonthlyIncome  LoanApproved  RiskScore  \n",
       "0             39948    3329.000000             0       49.0  \n",
       "1             39709    3309.083333             0       52.0  \n",
       "2             40724    3393.666667             0       52.0  \n",
       "3             69084    5757.000000             0       54.0  \n",
       "4            103264    8605.333333             1       36.0  \n",
       "...             ...            ...           ...        ...  \n",
       "19995         30180    2515.000000             0       55.0  \n",
       "19996         49246    4103.833333             0       54.0  \n",
       "19997         48958    4079.833333             0       45.0  \n",
       "19998         41025    3418.750000             0       59.0  \n",
       "19999         53227    4435.583333             0       59.0  \n",
       "\n",
       "[20000 rows x 8 columns]"
      ]
     },
     "execution_count": 5,
     "metadata": {},
     "output_type": "execute_result"
    }
   ],
   "source": [
    "data[['BankruptcyHistory', 'TotalDebtToIncomeRatio', 'DebtToIncomeRatio', 'NetWorth', 'AnnualIncome', 'MonthlyIncome','LoanApproved','RiskScore']]"
   ]
  },
  {
   "cell_type": "code",
   "execution_count": 13,
   "metadata": {},
   "outputs": [],
   "source": [
    "\n",
    "# Encoding categorical columns\n",
    "label_cols = ['EmploymentStatus', 'EducationLevel', 'MaritalStatus','HomeOwnershipStatus','LoanPurpose']\n",
    "le = LabelEncoder()\n",
    "for col in label_cols:\n",
    "    data[col] = le.fit_transform(data[col])\n"
   ]
  },
  {
   "cell_type": "code",
   "execution_count": 14,
   "metadata": {},
   "outputs": [
    {
     "data": {
      "text/plain": [
       "Index(['Age', 'AnnualIncome', 'CreditScore', 'EmploymentStatus',\n",
       "       'EducationLevel', 'Experience', 'LoanAmount', 'LoanDuration',\n",
       "       'MaritalStatus', 'NumberOfDependents', 'HomeOwnershipStatus',\n",
       "       'MonthlyDebtPayments', 'CreditCardUtilizationRate',\n",
       "       'NumberOfOpenCreditLines', 'NumberOfCreditInquiries',\n",
       "       'DebtToIncomeRatio', 'BankruptcyHistory', 'LoanPurpose',\n",
       "       'PreviousLoanDefaults', 'PaymentHistory', 'LengthOfCreditHistory',\n",
       "       'SavingsAccountBalance', 'CheckingAccountBalance', 'TotalAssets',\n",
       "       'TotalLiabilities', 'MonthlyIncome', 'UtilityBillsPaymentHistory',\n",
       "       'JobTenure', 'NetWorth', 'BaseInterestRate', 'InterestRate',\n",
       "       'MonthlyLoanPayment', 'TotalDebtToIncomeRatio', 'LoanApproved',\n",
       "       'RiskScore'],\n",
       "      dtype='object')"
      ]
     },
     "execution_count": 14,
     "metadata": {},
     "output_type": "execute_result"
    }
   ],
   "source": [
    "data.columns"
   ]
  },
  {
   "cell_type": "code",
   "execution_count": 15,
   "metadata": {},
   "outputs": [
    {
     "data": {
      "text/plain": [
       "Age                             int64\n",
       "AnnualIncome                    int64\n",
       "CreditScore                     int64\n",
       "EmploymentStatus                int64\n",
       "EducationLevel                  int64\n",
       "Experience                      int64\n",
       "LoanAmount                      int64\n",
       "LoanDuration                    int64\n",
       "MaritalStatus                   int64\n",
       "NumberOfDependents              int64\n",
       "HomeOwnershipStatus             int64\n",
       "MonthlyDebtPayments             int64\n",
       "CreditCardUtilizationRate     float64\n",
       "NumberOfOpenCreditLines         int64\n",
       "NumberOfCreditInquiries         int64\n",
       "DebtToIncomeRatio             float64\n",
       "BankruptcyHistory               int64\n",
       "LoanPurpose                     int64\n",
       "PreviousLoanDefaults            int64\n",
       "PaymentHistory                  int64\n",
       "LengthOfCreditHistory           int64\n",
       "SavingsAccountBalance           int64\n",
       "CheckingAccountBalance          int64\n",
       "TotalAssets                     int64\n",
       "TotalLiabilities                int64\n",
       "MonthlyIncome                 float64\n",
       "UtilityBillsPaymentHistory    float64\n",
       "JobTenure                       int64\n",
       "NetWorth                        int64\n",
       "BaseInterestRate              float64\n",
       "InterestRate                  float64\n",
       "MonthlyLoanPayment            float64\n",
       "TotalDebtToIncomeRatio        float64\n",
       "LoanApproved                    int64\n",
       "RiskScore                     float64\n",
       "dtype: object"
      ]
     },
     "execution_count": 15,
     "metadata": {},
     "output_type": "execute_result"
    }
   ],
   "source": [
    "data.dtypes"
   ]
  },
  {
   "cell_type": "code",
   "execution_count": 16,
   "metadata": {},
   "outputs": [],
   "source": [
    "for i in data.columns:\n",
    "    if (data[i].dtype==\"object\"):\n",
    "        print(i)\n",
    " "
   ]
  },
  {
   "cell_type": "code",
   "execution_count": 17,
   "metadata": {},
   "outputs": [
    {
     "data": {
      "text/plain": [
       "0        0.181077\n",
       "1        0.389852\n",
       "2        0.462157\n",
       "3        0.313098\n",
       "4        0.070210\n",
       "           ...   \n",
       "19995    0.627741\n",
       "19996    0.334418\n",
       "19997    0.357227\n",
       "19998    0.408678\n",
       "19999    0.298006\n",
       "Name: TotalDebtToIncomeRatio, Length: 20000, dtype: float64"
      ]
     },
     "execution_count": 17,
     "metadata": {},
     "output_type": "execute_result"
    }
   ],
   "source": [
    "data['TotalDebtToIncomeRatio']"
   ]
  },
  {
   "cell_type": "code",
   "execution_count": 11,
   "metadata": {},
   "outputs": [
    {
     "name": "stdout",
     "output_type": "stream",
     "text": [
      "Selected Features based on Correlation:  ['BankruptcyHistory', 'TotalDebtToIncomeRatio', 'DebtToIncomeRatio', 'NetWorth', 'AnnualIncome', 'MonthlyIncome']\n"
     ]
    }
   ],
   "source": [
    "\n",
    "import pandas as pd\n",
    "from sklearn.model_selection import train_test_split\n",
    "df=data\n",
    "# Assuming df is your DataFrame\n",
    "# Drop 'RiskScore' column\n",
    "df = df.drop(columns=['LoanApproved'])\n",
    "\n",
    "# Calculate correlation with the 'LoanApproved' column\n",
    "correlation = df.corr()['RiskScore'].sort_values(ascending=False)\n",
    "\n",
    "# Set a correlation threshold (absolute value)\n",
    "correlation_threshold = 0.3  # Change this based on your needs\n",
    "\n",
    "# Select features with correlation above the threshold\n",
    "selected_features = correlation[abs(correlation) > correlation_threshold].index.tolist()\n",
    "selected_features.remove('RiskScore')  # Exclude the target column from features\n",
    "\n",
    "# Create the feature matrix X and target variable y\n",
    "X = df[selected_features]\n",
    "y = df['RiskScore']\n",
    "\n",
    "# Split the data into train and test sets (e.g., 80% train, 20% test)\n",
    "X_train, X_test, y_train, y_test = train_test_split(X, y, test_size=0.2, random_state=42)\n",
    "\n",
    "print(\"Selected Features based on Correlation: \", selected_features)\n",
    "\n"
   ]
  },
  {
   "cell_type": "code",
   "execution_count": 18,
   "metadata": {},
   "outputs": [
    {
     "data": {
      "text/plain": [
       "Index(['BankruptcyHistory', 'TotalDebtToIncomeRatio', 'DebtToIncomeRatio',\n",
       "       'NetWorth', 'AnnualIncome', 'MonthlyIncome'],\n",
       "      dtype='object')"
      ]
     },
     "execution_count": 18,
     "metadata": {},
     "output_type": "execute_result"
    }
   ],
   "source": [
    "X_train.columns"
   ]
  },
  {
   "cell_type": "code",
   "execution_count": 47,
   "metadata": {},
   "outputs": [],
   "source": []
  },
  {
   "cell_type": "code",
   "execution_count": 77,
   "metadata": {},
   "outputs": [
    {
     "name": "stdout",
     "output_type": "stream",
     "text": [
      "Gradient Boosting Regressor MSE: 21.0871, R^2: 0.6604\n"
     ]
    }
   ],
   "source": [
    "\n",
    "from sklearn.ensemble import GradientBoostingRegressor\n",
    "\n",
    "# Initialize Gradient Boosting Regressor model\n",
    "gb_reg = GradientBoostingRegressor(n_estimators=100, max_depth=3, random_state=42)\n",
    "\n",
    "# Fit the model on training data\n",
    "gb_reg.fit(X_train, y_train)\n",
    "\n",
    "# Predict on test data\n",
    "y_pred_gb = gb_reg.predict(X_test)\n",
    "\n",
    "# Evaluate the model\n",
    "mse_gb = mean_squared_error(y_test, y_pred_gb)\n",
    "r2_gb = r2_score(y_test, y_pred_gb)\n",
    "print(f\"Gradient Boosting Regressor MSE: {mse_gb:.4f}, R^2: {r2_gb:.4f}\")\n"
   ]
  },
  {
   "cell_type": "code",
   "execution_count": 78,
   "metadata": {},
   "outputs": [
    {
     "name": "stdout",
     "output_type": "stream",
     "text": [
      "Random Forest Regressor MSE: 21.3523, R^2: 0.6561\n"
     ]
    }
   ],
   "source": [
    "from sklearn.ensemble import RandomForestRegressor\n",
    "\n",
    "# Initialize Random Forest Regressor model\n",
    "rf_reg = RandomForestRegressor(n_estimators=100, max_depth=10, random_state=42)\n",
    "\n",
    "# Fit the model on training data\n",
    "rf_reg.fit(X_train, y_train)\n",
    "\n",
    "# Predict on test data\n",
    "y_pred_rf = rf_reg.predict(X_test)\n",
    "\n",
    "# Evaluate the model\n",
    "mse_rf = mean_squared_error(y_test, y_pred_rf)\n",
    "r2_rf = r2_score(y_test, y_pred_rf)\n",
    "print(f\"Random Forest Regressor MSE: {mse_rf:.4f}, R^2: {r2_rf:.4f}\")\n"
   ]
  },
  {
   "cell_type": "code",
   "execution_count": 79,
   "metadata": {},
   "outputs": [
    {
     "name": "stdout",
     "output_type": "stream",
     "text": [
      "Linear Regression MSE: 26.0737, R^2: 0.5800\n"
     ]
    }
   ],
   "source": [
    "from sklearn.linear_model import LinearRegression\n",
    "from sklearn.metrics import mean_squared_error, r2_score\n",
    "\n",
    "# Initialize Linear Regression model\n",
    "lin_reg = LinearRegression()\n",
    "\n",
    "# Fit the model on training data\n",
    "lin_reg.fit(X_train, y_train)\n",
    "\n",
    "# Predict on test data\n",
    "y_pred_lin_reg = lin_reg.predict(X_test)\n",
    "\n",
    "# Evaluate the model\n",
    "mse_lin_reg = mean_squared_error(y_test, y_pred_lin_reg)\n",
    "r2_lin_reg = r2_score(y_test, y_pred_lin_reg)\n",
    "print(f\"Linear Regression MSE: {mse_lin_reg:.4f}, R^2: {r2_lin_reg:.4f}\")\n"
   ]
  },
  {
   "cell_type": "code",
   "execution_count": 80,
   "metadata": {},
   "outputs": [
    {
     "data": {
      "text/plain": [
       "array([49.33065006, 37.04179097, 48.37562438, 50.45106397, 48.41164485])"
      ]
     },
     "execution_count": 80,
     "metadata": {},
     "output_type": "execute_result"
    }
   ],
   "source": [
    "lin_reg.predict(X_test[:5])\n"
   ]
  },
  {
   "cell_type": "code",
   "execution_count": 81,
   "metadata": {},
   "outputs": [
    {
     "data": {
      "text/html": [
       "<div>\n",
       "<style scoped>\n",
       "    .dataframe tbody tr th:only-of-type {\n",
       "        vertical-align: middle;\n",
       "    }\n",
       "\n",
       "    .dataframe tbody tr th {\n",
       "        vertical-align: top;\n",
       "    }\n",
       "\n",
       "    .dataframe thead th {\n",
       "        text-align: right;\n",
       "    }\n",
       "</style>\n",
       "<table border=\"1\" class=\"dataframe\">\n",
       "  <thead>\n",
       "    <tr style=\"text-align: right;\">\n",
       "      <th></th>\n",
       "      <th>BankruptcyHistory</th>\n",
       "      <th>TotalDebtToIncomeRatio</th>\n",
       "      <th>DebtToIncomeRatio</th>\n",
       "      <th>NetWorth</th>\n",
       "      <th>AnnualIncome</th>\n",
       "      <th>MonthlyIncome</th>\n",
       "    </tr>\n",
       "  </thead>\n",
       "  <tbody>\n",
       "    <tr>\n",
       "      <th>10650</th>\n",
       "      <td>0</td>\n",
       "      <td>0.090436</td>\n",
       "      <td>0.430751</td>\n",
       "      <td>7304</td>\n",
       "      <td>100761</td>\n",
       "      <td>8396.750000</td>\n",
       "    </tr>\n",
       "    <tr>\n",
       "      <th>2041</th>\n",
       "      <td>0</td>\n",
       "      <td>0.047832</td>\n",
       "      <td>0.148908</td>\n",
       "      <td>22443</td>\n",
       "      <td>189154</td>\n",
       "      <td>15762.833333</td>\n",
       "    </tr>\n",
       "    <tr>\n",
       "      <th>8668</th>\n",
       "      <td>0</td>\n",
       "      <td>0.271436</td>\n",
       "      <td>0.206626</td>\n",
       "      <td>20044</td>\n",
       "      <td>73272</td>\n",
       "      <td>6106.000000</td>\n",
       "    </tr>\n",
       "    <tr>\n",
       "      <th>1114</th>\n",
       "      <td>0</td>\n",
       "      <td>0.530868</td>\n",
       "      <td>0.184681</td>\n",
       "      <td>1714</td>\n",
       "      <td>57115</td>\n",
       "      <td>4759.583333</td>\n",
       "    </tr>\n",
       "    <tr>\n",
       "      <th>13902</th>\n",
       "      <td>0</td>\n",
       "      <td>0.309877</td>\n",
       "      <td>0.184185</td>\n",
       "      <td>55941</td>\n",
       "      <td>61155</td>\n",
       "      <td>5096.250000</td>\n",
       "    </tr>\n",
       "  </tbody>\n",
       "</table>\n",
       "</div>"
      ],
      "text/plain": [
       "       BankruptcyHistory  TotalDebtToIncomeRatio  DebtToIncomeRatio  NetWorth  \\\n",
       "10650                  0                0.090436           0.430751      7304   \n",
       "2041                   0                0.047832           0.148908     22443   \n",
       "8668                   0                0.271436           0.206626     20044   \n",
       "1114                   0                0.530868           0.184681      1714   \n",
       "13902                  0                0.309877           0.184185     55941   \n",
       "\n",
       "       AnnualIncome  MonthlyIncome  \n",
       "10650        100761    8396.750000  \n",
       "2041         189154   15762.833333  \n",
       "8668          73272    6106.000000  \n",
       "1114          57115    4759.583333  \n",
       "13902         61155    5096.250000  "
      ]
     },
     "execution_count": 81,
     "metadata": {},
     "output_type": "execute_result"
    }
   ],
   "source": [
    "X_test[:5]"
   ]
  },
  {
   "cell_type": "code",
   "execution_count": 82,
   "metadata": {},
   "outputs": [
    {
     "data": {
      "text/plain": [
       "Index(['BankruptcyHistory', 'TotalDebtToIncomeRatio', 'DebtToIncomeRatio',\n",
       "       'NetWorth', 'AnnualIncome', 'MonthlyIncome'],\n",
       "      dtype='object')"
      ]
     },
     "execution_count": 82,
     "metadata": {},
     "output_type": "execute_result"
    }
   ],
   "source": [
    "X_test.columns"
   ]
  },
  {
   "cell_type": "code",
   "execution_count": 83,
   "metadata": {},
   "outputs": [
    {
     "data": {
      "text/plain": [
       "10650    41.6\n",
       "2041     38.4\n",
       "8668     53.0\n",
       "1114     50.0\n",
       "13902    51.0\n",
       "Name: RiskScore, dtype: float64"
      ]
     },
     "execution_count": 83,
     "metadata": {},
     "output_type": "execute_result"
    }
   ],
   "source": [
    "y_test[:5]"
   ]
  },
  {
   "cell_type": "code",
   "execution_count": 84,
   "metadata": {},
   "outputs": [
    {
     "data": {
      "text/html": [
       "<div>\n",
       "<style scoped>\n",
       "    .dataframe tbody tr th:only-of-type {\n",
       "        vertical-align: middle;\n",
       "    }\n",
       "\n",
       "    .dataframe tbody tr th {\n",
       "        vertical-align: top;\n",
       "    }\n",
       "\n",
       "    .dataframe thead th {\n",
       "        text-align: right;\n",
       "    }\n",
       "</style>\n",
       "<table border=\"1\" class=\"dataframe\">\n",
       "  <thead>\n",
       "    <tr style=\"text-align: right;\">\n",
       "      <th></th>\n",
       "      <th>BankruptcyHistory</th>\n",
       "      <th>TotalDebtToIncomeRatio</th>\n",
       "      <th>DebtToIncomeRatio</th>\n",
       "      <th>NetWorth</th>\n",
       "      <th>AnnualIncome</th>\n",
       "      <th>MonthlyIncome</th>\n",
       "    </tr>\n",
       "  </thead>\n",
       "  <tbody>\n",
       "    <tr>\n",
       "      <th>5894</th>\n",
       "      <td>0</td>\n",
       "      <td>0.932622</td>\n",
       "      <td>0.297167</td>\n",
       "      <td>59717</td>\n",
       "      <td>15000</td>\n",
       "      <td>1250.000000</td>\n",
       "    </tr>\n",
       "    <tr>\n",
       "      <th>3728</th>\n",
       "      <td>0</td>\n",
       "      <td>0.256035</td>\n",
       "      <td>0.762549</td>\n",
       "      <td>4711</td>\n",
       "      <td>49855</td>\n",
       "      <td>4154.583333</td>\n",
       "    </tr>\n",
       "    <tr>\n",
       "      <th>8958</th>\n",
       "      <td>0</td>\n",
       "      <td>0.299648</td>\n",
       "      <td>0.128680</td>\n",
       "      <td>2228</td>\n",
       "      <td>38932</td>\n",
       "      <td>3244.333333</td>\n",
       "    </tr>\n",
       "    <tr>\n",
       "      <th>7671</th>\n",
       "      <td>0</td>\n",
       "      <td>0.318753</td>\n",
       "      <td>0.308723</td>\n",
       "      <td>52964</td>\n",
       "      <td>58116</td>\n",
       "      <td>4843.000000</td>\n",
       "    </tr>\n",
       "    <tr>\n",
       "      <th>5999</th>\n",
       "      <td>0</td>\n",
       "      <td>0.335275</td>\n",
       "      <td>0.465777</td>\n",
       "      <td>189178</td>\n",
       "      <td>62939</td>\n",
       "      <td>5244.916667</td>\n",
       "    </tr>\n",
       "    <tr>\n",
       "      <th>...</th>\n",
       "      <td>...</td>\n",
       "      <td>...</td>\n",
       "      <td>...</td>\n",
       "      <td>...</td>\n",
       "      <td>...</td>\n",
       "      <td>...</td>\n",
       "    </tr>\n",
       "    <tr>\n",
       "      <th>11284</th>\n",
       "      <td>0</td>\n",
       "      <td>0.496160</td>\n",
       "      <td>0.179831</td>\n",
       "      <td>525387</td>\n",
       "      <td>37134</td>\n",
       "      <td>3094.500000</td>\n",
       "    </tr>\n",
       "    <tr>\n",
       "      <th>11964</th>\n",
       "      <td>1</td>\n",
       "      <td>0.927284</td>\n",
       "      <td>0.165276</td>\n",
       "      <td>7558</td>\n",
       "      <td>15000</td>\n",
       "      <td>1250.000000</td>\n",
       "    </tr>\n",
       "    <tr>\n",
       "      <th>5390</th>\n",
       "      <td>0</td>\n",
       "      <td>0.194998</td>\n",
       "      <td>0.391030</td>\n",
       "      <td>654095</td>\n",
       "      <td>48088</td>\n",
       "      <td>4007.333333</td>\n",
       "    </tr>\n",
       "    <tr>\n",
       "      <th>860</th>\n",
       "      <td>0</td>\n",
       "      <td>0.458332</td>\n",
       "      <td>0.676942</td>\n",
       "      <td>35612</td>\n",
       "      <td>15265</td>\n",
       "      <td>1272.083333</td>\n",
       "    </tr>\n",
       "    <tr>\n",
       "      <th>15795</th>\n",
       "      <td>0</td>\n",
       "      <td>0.640378</td>\n",
       "      <td>0.337461</td>\n",
       "      <td>26458</td>\n",
       "      <td>45197</td>\n",
       "      <td>3766.416667</td>\n",
       "    </tr>\n",
       "  </tbody>\n",
       "</table>\n",
       "<p>16000 rows × 6 columns</p>\n",
       "</div>"
      ],
      "text/plain": [
       "       BankruptcyHistory  TotalDebtToIncomeRatio  DebtToIncomeRatio  NetWorth  \\\n",
       "5894                   0                0.932622           0.297167     59717   \n",
       "3728                   0                0.256035           0.762549      4711   \n",
       "8958                   0                0.299648           0.128680      2228   \n",
       "7671                   0                0.318753           0.308723     52964   \n",
       "5999                   0                0.335275           0.465777    189178   \n",
       "...                  ...                     ...                ...       ...   \n",
       "11284                  0                0.496160           0.179831    525387   \n",
       "11964                  1                0.927284           0.165276      7558   \n",
       "5390                   0                0.194998           0.391030    654095   \n",
       "860                    0                0.458332           0.676942     35612   \n",
       "15795                  0                0.640378           0.337461     26458   \n",
       "\n",
       "       AnnualIncome  MonthlyIncome  \n",
       "5894          15000    1250.000000  \n",
       "3728          49855    4154.583333  \n",
       "8958          38932    3244.333333  \n",
       "7671          58116    4843.000000  \n",
       "5999          62939    5244.916667  \n",
       "...             ...            ...  \n",
       "11284         37134    3094.500000  \n",
       "11964         15000    1250.000000  \n",
       "5390          48088    4007.333333  \n",
       "860           15265    1272.083333  \n",
       "15795         45197    3766.416667  \n",
       "\n",
       "[16000 rows x 6 columns]"
      ]
     },
     "execution_count": 84,
     "metadata": {},
     "output_type": "execute_result"
    }
   ],
   "source": [
    "X_train"
   ]
  },
  {
   "cell_type": "code",
   "execution_count": 85,
   "metadata": {},
   "outputs": [
    {
     "name": "stderr",
     "output_type": "stream",
     "text": [
      "C:\\Users\\narne\\AppData\\Local\\Temp\\ipykernel_2104\\3056176872.py:1: SettingWithCopyWarning: \n",
      "A value is trying to be set on a copy of a slice from a DataFrame.\n",
      "Try using .loc[row_indexer,col_indexer] = value instead\n",
      "\n",
      "See the caveats in the documentation: https://pandas.pydata.org/pandas-docs/stable/user_guide/indexing.html#returning-a-view-versus-a-copy\n",
      "  X[\"RiskScore\"]=data[\"RiskScore\"]\n"
     ]
    }
   ],
   "source": [
    "X[\"RiskScore\"]=data[\"RiskScore\"]"
   ]
  },
  {
   "cell_type": "code",
   "execution_count": 86,
   "metadata": {},
   "outputs": [
    {
     "name": "stdout",
     "output_type": "stream",
     "text": [
      "y_train and y_test prepared.\n"
     ]
    }
   ],
   "source": [
    "# Target variable y (LoanApproved column)\n",
    "y = data['LoanApproved']\n",
    "\n",
    "# Split the target variable into train and test sets (same test size and random state as before)\n",
    "X_train, X_test, y_train, y_test = train_test_split(X, y, test_size=0.2, random_state=42)\n",
    "\n",
    "# Now y_train and y_test are created\n",
    "print(\"y_train and y_test prepared.\")\n",
    "\n",
    "\n"
   ]
  },
  {
   "cell_type": "code",
   "execution_count": 87,
   "metadata": {},
   "outputs": [
    {
     "data": {
      "text/html": [
       "<div>\n",
       "<style scoped>\n",
       "    .dataframe tbody tr th:only-of-type {\n",
       "        vertical-align: middle;\n",
       "    }\n",
       "\n",
       "    .dataframe tbody tr th {\n",
       "        vertical-align: top;\n",
       "    }\n",
       "\n",
       "    .dataframe thead th {\n",
       "        text-align: right;\n",
       "    }\n",
       "</style>\n",
       "<table border=\"1\" class=\"dataframe\">\n",
       "  <thead>\n",
       "    <tr style=\"text-align: right;\">\n",
       "      <th></th>\n",
       "      <th>BankruptcyHistory</th>\n",
       "      <th>TotalDebtToIncomeRatio</th>\n",
       "      <th>DebtToIncomeRatio</th>\n",
       "      <th>NetWorth</th>\n",
       "      <th>AnnualIncome</th>\n",
       "      <th>MonthlyIncome</th>\n",
       "      <th>RiskScore</th>\n",
       "    </tr>\n",
       "  </thead>\n",
       "  <tbody>\n",
       "    <tr>\n",
       "      <th>5894</th>\n",
       "      <td>0</td>\n",
       "      <td>0.932622</td>\n",
       "      <td>0.297167</td>\n",
       "      <td>59717</td>\n",
       "      <td>15000</td>\n",
       "      <td>1250.0</td>\n",
       "      <td>49.0</td>\n",
       "    </tr>\n",
       "  </tbody>\n",
       "</table>\n",
       "</div>"
      ],
      "text/plain": [
       "      BankruptcyHistory  TotalDebtToIncomeRatio  DebtToIncomeRatio  NetWorth  \\\n",
       "5894                  0                0.932622           0.297167     59717   \n",
       "\n",
       "      AnnualIncome  MonthlyIncome  RiskScore  \n",
       "5894         15000         1250.0       49.0  "
      ]
     },
     "execution_count": 87,
     "metadata": {},
     "output_type": "execute_result"
    }
   ],
   "source": [
    "X_train[:1]"
   ]
  },
  {
   "cell_type": "code",
   "execution_count": 88,
   "metadata": {},
   "outputs": [
    {
     "name": "stdout",
     "output_type": "stream",
     "text": [
      "Logistic Regression Accuracy: 0.9898\n",
      "Confusion Matrix:\n",
      "[[2968   15]\n",
      " [  26  991]]\n",
      "Classification Report:\n",
      "              precision    recall  f1-score   support\n",
      "\n",
      "           0       0.99      0.99      0.99      2983\n",
      "           1       0.99      0.97      0.98      1017\n",
      "\n",
      "    accuracy                           0.99      4000\n",
      "   macro avg       0.99      0.98      0.99      4000\n",
      "weighted avg       0.99      0.99      0.99      4000\n",
      "\n"
     ]
    }
   ],
   "source": [
    "from sklearn.linear_model import LogisticRegression\n",
    "from sklearn.metrics import accuracy_score, classification_report, confusion_matrix\n",
    "\n",
    "# Initialize Logistic Regression model\n",
    "log_reg = LogisticRegression(solver='lbfgs', max_iter=500, random_state=42)\n",
    "\n",
    "# Fit the model on training data\n",
    "log_reg.fit(X_train, y_train)\n",
    "\n",
    "# Predict on test data\n",
    "y_pred_log_reg = log_reg.predict(X_test)\n",
    "\n",
    "# Evaluate the model\n",
    "accuracy_log_reg = accuracy_score(y_test, y_pred_log_reg)\n",
    "print(f\"Logistic Regression Accuracy: {accuracy_log_reg:.4f}\")\n",
    "print(\"Confusion Matrix:\")\n",
    "print(confusion_matrix(y_test, y_pred_log_reg))\n",
    "print(\"Classification Report:\")\n",
    "print(classification_report(y_test, y_pred_log_reg))\n"
   ]
  },
  {
   "cell_type": "code",
   "execution_count": 93,
   "metadata": {},
   "outputs": [],
   "source": [
    "import pickle\n",
    "# Save the model to a file\n",
    "with open('rf_regression_model.pkl', 'wb') as file:\n",
    "    pickle.dump(rf_reg, file)\n"
   ]
  },
  {
   "cell_type": "code",
   "execution_count": 89,
   "metadata": {},
   "outputs": [
    {
     "name": "stdout",
     "output_type": "stream",
     "text": [
      "Random Forest Accuracy: 0.9922\n",
      "Confusion Matrix:\n",
      "[[2971   12]\n",
      " [  19  998]]\n",
      "Classification Report:\n",
      "              precision    recall  f1-score   support\n",
      "\n",
      "           0       0.99      1.00      0.99      2983\n",
      "           1       0.99      0.98      0.98      1017\n",
      "\n",
      "    accuracy                           0.99      4000\n",
      "   macro avg       0.99      0.99      0.99      4000\n",
      "weighted avg       0.99      0.99      0.99      4000\n",
      "\n"
     ]
    }
   ],
   "source": [
    "from sklearn.ensemble import RandomForestClassifier\n",
    "from sklearn.metrics import accuracy_score, classification_report, confusion_matrix\n",
    "\n",
    "# Initialize Random Forest model\n",
    "rf_clf = RandomForestClassifier(n_estimators=100, max_depth=10, random_state=42)\n",
    "\n",
    "# Fit the model on training data\n",
    "rf_clf.fit(X_train, y_train)\n",
    "\n",
    "# Predict on test data\n",
    "y_pred_rf = rf_clf.predict(X_test)\n",
    "\n",
    "# Evaluate the model\n",
    "accuracy_rf = accuracy_score(y_test, y_pred_rf)\n",
    "print(f\"Random Forest Accuracy: {accuracy_rf:.4f}\")\n",
    "print(\"Confusion Matrix:\")\n",
    "print(confusion_matrix(y_test, y_pred_rf))\n",
    "print(\"Classification Report:\")\n",
    "print(classification_report(y_test, y_pred_rf))\n"
   ]
  },
  {
   "cell_type": "code",
   "execution_count": 90,
   "metadata": {},
   "outputs": [
    {
     "name": "stdout",
     "output_type": "stream",
     "text": [
      "SVC Accuracy: 0.8488\n",
      "Confusion Matrix:\n",
      "[[2869  114]\n",
      " [ 491  526]]\n",
      "Classification Report:\n",
      "              precision    recall  f1-score   support\n",
      "\n",
      "           0       0.85      0.96      0.90      2983\n",
      "           1       0.82      0.52      0.63      1017\n",
      "\n",
      "    accuracy                           0.85      4000\n",
      "   macro avg       0.84      0.74      0.77      4000\n",
      "weighted avg       0.85      0.85      0.84      4000\n",
      "\n"
     ]
    }
   ],
   "source": [
    "from sklearn.svm import SVC\n",
    "from sklearn.metrics import accuracy_score, classification_report, confusion_matrix\n",
    "\n",
    "# Initialize Support Vector Classifier model\n",
    "svc_clf = SVC(kernel='rbf', C=1.0, gamma='scale', random_state=42)\n",
    "\n",
    "# Fit the model on training data\n",
    "svc_clf.fit(X_train, y_train)\n",
    "\n",
    "# Predict on test data\n",
    "y_pred_svc = svc_clf.predict(X_test)\n",
    "\n",
    "# Evaluate the model\n",
    "accuracy_svc = accuracy_score(y_test, y_pred_svc)\n",
    "print(f\"SVC Accuracy: {accuracy_svc:.4f}\")\n",
    "print(\"Confusion Matrix:\")\n",
    "print(confusion_matrix(y_test, y_pred_svc))\n",
    "print(\"Classification Report:\")\n",
    "print(classification_report(y_test, y_pred_svc))\n"
   ]
  },
  {
   "cell_type": "code",
   "execution_count": 91,
   "metadata": {},
   "outputs": [
    {
     "name": "stdout",
     "output_type": "stream",
     "text": [
      "KNN Accuracy: 0.8293\n",
      "Confusion Matrix:\n",
      "[[2710  273]\n",
      " [ 410  607]]\n",
      "Classification Report:\n",
      "              precision    recall  f1-score   support\n",
      "\n",
      "           0       0.87      0.91      0.89      2983\n",
      "           1       0.69      0.60      0.64      1017\n",
      "\n",
      "    accuracy                           0.83      4000\n",
      "   macro avg       0.78      0.75      0.76      4000\n",
      "weighted avg       0.82      0.83      0.83      4000\n",
      "\n"
     ]
    }
   ],
   "source": [
    "from sklearn.neighbors import KNeighborsClassifier\n",
    "from sklearn.metrics import accuracy_score, classification_report, confusion_matrix\n",
    "\n",
    "# Initialize KNN model\n",
    "knn_clf = KNeighborsClassifier(n_neighbors=5, metric='minkowski')\n",
    "\n",
    "# Fit the model on training data\n",
    "knn_clf.fit(X_train, y_train)\n",
    "\n",
    "# Predict on test data\n",
    "y_pred_knn = knn_clf.predict(X_test)\n",
    "\n",
    "# Evaluate the model\n",
    "accuracy_knn = accuracy_score(y_test, y_pred_knn)\n",
    "print(f\"KNN Accuracy: {accuracy_knn:.4f}\")\n",
    "print(\"Confusion Matrix:\")\n",
    "print(confusion_matrix(y_test, y_pred_knn))\n",
    "print(\"Classification Report:\")\n",
    "print(classification_report(y_test, y_pred_knn))\n"
   ]
  },
  {
   "cell_type": "code",
   "execution_count": 23,
   "metadata": {},
   "outputs": [
    {
     "data": {
      "text/plain": [
       "Index(['Age', 'AnnualIncome', 'CreditScore', 'EmploymentStatus',\n",
       "       'EducationLevel', 'Experience', 'LoanAmount', 'LoanDuration',\n",
       "       'MaritalStatus', 'NumberOfDependents', 'HomeOwnershipStatus',\n",
       "       'MonthlyDebtPayments', 'CreditCardUtilizationRate',\n",
       "       'NumberOfOpenCreditLines', 'NumberOfCreditInquiries',\n",
       "       'DebtToIncomeRatio', 'BankruptcyHistory', 'LoanPurpose',\n",
       "       'PreviousLoanDefaults', 'PaymentHistory', 'LengthOfCreditHistory',\n",
       "       'SavingsAccountBalance', 'CheckingAccountBalance', 'TotalAssets',\n",
       "       'TotalLiabilities', 'MonthlyIncome', 'UtilityBillsPaymentHistory',\n",
       "       'JobTenure', 'NetWorth', 'BaseInterestRate', 'InterestRate',\n",
       "       'MonthlyLoanPayment', 'TotalDebtToIncomeRatio'],\n",
       "      dtype='object')"
      ]
     },
     "execution_count": 23,
     "metadata": {},
     "output_type": "execute_result"
    }
   ],
   "source": [
    "X_train.columns"
   ]
  },
  {
   "cell_type": "code",
   "execution_count": 17,
   "metadata": {},
   "outputs": [],
   "source": [
    "reg_data=X_train"
   ]
  },
  {
   "cell_type": "code",
   "execution_count": 22,
   "metadata": {},
   "outputs": [],
   "source": [
    "import pickle\n",
    "\n",
    "# Save the model to a file\n",
    "with open('linear_regression_model.pkl', 'wb') as file:\n",
    "    pickle.dump(lin_reg, file)\n",
    "\n",
    "# Later, to load the model back\n",
    "with open('linear_regression_model.pkl', 'rb') as file:\n",
    "    loaded_model = pickle.load(file)\n"
   ]
  },
  {
   "cell_type": "code",
   "execution_count": 29,
   "metadata": {},
   "outputs": [
    {
     "data": {
      "text/plain": [
       "array([[3.70000000e+01, 4.91460000e+04, 5.66000000e+02, 0.00000000e+00,\n",
       "        0.00000000e+00, 1.30000000e+01, 5.45810000e+04, 2.40000000e+01,\n",
       "        3.00000000e+00, 1.00000000e+00, 3.00000000e+00, 1.77500000e+03,\n",
       "        2.12542462e-01, 2.00000000e+00, 2.00000000e+00, 2.39522804e-01,\n",
       "        0.00000000e+00, 1.00000000e+00, 0.00000000e+00, 2.60000000e+01,\n",
       "        2.60000000e+01, 6.41400000e+03, 7.23000000e+02, 1.30217000e+05,\n",
       "        1.71700000e+04, 4.09550000e+03, 7.00054401e-01, 1.00000000e+01,\n",
       "        1.13047000e+05, 2.46581000e-01, 2.60258203e-01, 2.94123857e+03,\n",
       "        1.15156601e+00]])"
      ]
     },
     "execution_count": 29,
     "metadata": {},
     "output_type": "execute_result"
    }
   ],
   "source": [
    "a=X_test[:1].values\n",
    "a"
   ]
  },
  {
   "cell_type": "code",
   "execution_count": 31,
   "metadata": {},
   "outputs": [
    {
     "data": {
      "text/plain": [
       "array([-1.68409218e+17])"
      ]
     },
     "execution_count": 31,
     "metadata": {},
     "output_type": "execute_result"
    }
   ],
   "source": [
    "# Load the saved linear regression model\n",
    "model_path = r\"D:\\Loan Approval\\linear_regression_model.pkl\"\n",
    "with open(model_path, 'rb') as f:\n",
    "    model = pickle.load(f)\n",
    "    risk_score = model.predict(a)\n",
    "risk_score"
   ]
  },
  {
   "cell_type": "code",
   "execution_count": null,
   "metadata": {},
   "outputs": [],
   "source": []
  }
 ],
 "metadata": {
  "kernelspec": {
   "display_name": "base",
   "language": "python",
   "name": "python3"
  },
  "language_info": {
   "codemirror_mode": {
    "name": "ipython",
    "version": 3
   },
   "file_extension": ".py",
   "mimetype": "text/x-python",
   "name": "python",
   "nbconvert_exporter": "python",
   "pygments_lexer": "ipython3",
   "version": "3.12.3"
  }
 },
 "nbformat": 4,
 "nbformat_minor": 2
}
